{
 "cells": [
  {
   "cell_type": "markdown",
   "metadata": {
    "id": "V2a6LEM_KvWR"
   },
   "source": [
    "# Building your own Chatbot from Scratch in Python (using NLTK)\n",
    "\n",
    "![Alt text](https://cdn-images-1.medium.com/max/800/1*pPcVfZ7i-gLMabUol3zezA.gif)\n",
    "\n",
    "History of chatbots dates back to 1966 when a computer program called ELIZA was invented by Weizenbaum. It imitated the language of a psychotherapist from only 200 lines of code. You can still converse with it here: [Eliza](http://psych.fullerton.edu/mbirnbaum/psych101/Eliza.htm?utm_source=ubisend.com&utm_medium=blog-link&utm_campaign=ubisend). \n",
    "\n",
    "On similar lines let's create a very basic chatbot utlising the Python's NLTK library.It's a very simple bot with hardly any cognitive skills,but still a good way to get into NLP and get to know about chatbots.\n",
    "\n",
    "For detailed analysis, please see the accompanying blog titled:**[Building a Simple Chatbot in Python (using NLTK](https://medium.com/analytics-vidhya/building-a-simple-chatbot-in-python-using-nltk-7c8c8215ac6e)\n"
   ]
  },
  {
   "cell_type": "markdown",
   "metadata": {
    "id": "Nso6M6g0KvWU"
   },
   "source": [
    "## NLP\n",
    "NLP is a way for computers to analyze, understand, and derive meaning from human language in a smart and useful way. By utilizing NLP, developers can organize and structure knowledge to perform tasks such as automatic summarization, translation, named entity recognition, relationship extraction, sentiment analysis, speech recognition, and topic segmentation."
   ]
  },
  {
   "cell_type": "markdown",
   "metadata": {
    "id": "CPCNIpdJKvWX"
   },
   "source": [
    "## Import necessary libraries"
   ]
  },
  {
   "cell_type": "code",
   "execution_count": 1,
   "metadata": {
    "id": "ytKb4HVAKvWZ"
   },
   "outputs": [],
   "source": [
    "import io\n",
    "import random\n",
    "import string # to process standard python strings\n",
    "import warnings\n",
    "import numpy as np\n",
    "from sklearn.feature_extraction.text import TfidfVectorizer\n",
    "from sklearn.metrics.pairwise import cosine_similarity\n",
    "import warnings\n",
    "warnings.filterwarnings('ignore')"
   ]
  },
  {
   "cell_type": "markdown",
   "metadata": {
    "id": "Qa8m-fe8KvWr"
   },
   "source": [
    "## Downloading and installing NLTK\n",
    "NLTK(Natural Language Toolkit) is a leading platform for building Python programs to work with human language data. It provides easy-to-use interfaces to over 50 corpora and lexical resources such as WordNet, along with a suite of text processing libraries for classification, tokenization, stemming, tagging, parsing, and semantic reasoning, wrappers for industrial-strength NLP libraries.\n",
    "\n",
    "[Natural Language Processing with Python](http://www.nltk.org/book/) provides a practical introduction to programming for language processing.\n",
    "\n",
    "For platform-specific instructions, read [here](https://www.nltk.org/install.html)\n",
    "\n"
   ]
  },
  {
   "cell_type": "code",
   "execution_count": 2,
   "metadata": {
    "colab": {
     "base_uri": "https://localhost:8080/",
     "height": 53
    },
    "id": "JRjPlOnTKvWt",
    "outputId": "02a32087-6b2e-44b9-9bc4-7c0cae94cd36"
   },
   "outputs": [
    {
     "name": "stdout",
     "output_type": "stream",
     "text": [
      "Requirement already satisfied: nltk in c:\\users\\djebb\\anaconda3\\lib\\site-packages (3.7)\n",
      "Requirement already satisfied: tqdm in c:\\users\\djebb\\anaconda3\\lib\\site-packages (from nltk) (4.64.0)\n",
      "Requirement already satisfied: click in c:\\users\\djebb\\anaconda3\\lib\\site-packages (from nltk) (8.0.4)\n",
      "Requirement already satisfied: regex>=2021.8.3 in c:\\users\\djebb\\anaconda3\\lib\\site-packages (from nltk) (2022.3.15)\n",
      "Requirement already satisfied: joblib in c:\\users\\djebb\\anaconda3\\lib\\site-packages (from nltk) (1.1.0)\n",
      "Requirement already satisfied: colorama in c:\\users\\djebb\\anaconda3\\lib\\site-packages (from click->nltk) (0.4.4)\n",
      "Note: you may need to restart the kernel to use updated packages.\n"
     ]
    }
   ],
   "source": [
    "pip install nltk"
   ]
  },
  {
   "cell_type": "markdown",
   "metadata": {
    "id": "IsQ8TnrKKvW6"
   },
   "source": [
    "### Installing NLTK Packages\n",
    "\n",
    "\n"
   ]
  },
  {
   "cell_type": "code",
   "execution_count": 3,
   "metadata": {
    "colab": {
     "base_uri": "https://localhost:8080/",
     "height": 35
    },
    "id": "ikyB47wnKvW8",
    "outputId": "125bfd88-606a-47d4-d658-d278c2897f3a"
   },
   "outputs": [
    {
     "data": {
      "text/plain": [
       "True"
      ]
     },
     "execution_count": 3,
     "metadata": {},
     "output_type": "execute_result"
    }
   ],
   "source": [
    "import nltk\n",
    "from nltk.stem import WordNetLemmatizer\n",
    "nltk.download('popular', quiet=True) # for downloading packages\n",
    "#nltk.download('punkt') # first-time use only\n",
    "#nltk.download('wordnet') # first-time use only"
   ]
  },
  {
   "cell_type": "markdown",
   "metadata": {
    "id": "EUFC9npYKvXF"
   },
   "source": [
    "## Reading in the corpus\n",
    "\n",
    "For our example,we will be using the Wikipedia page for chatbots as our corpus. Copy the contents from the page and place it in a text file named ‘chatbot.txt’. However, you can use any corpus of your choice."
   ]
  },
  {
   "cell_type": "code",
   "execution_count": 5,
   "metadata": {
    "id": "jCBu_xdpKvXH"
   },
   "outputs": [
    {
     "name": "stdout",
     "output_type": "stream",
     "text": [
      "world war ii or the second world war, often abbreviated as wwii or ww2, was a world war that lasted from 1939 to 1945. it involved the vast majority of the world's countriesâ€”including all of the great powersâ€”forming two opposing military alliances: the allies and the axis powers. world war ii was a total war that directly involved more than 100 million personnel from more than 30 countries.\n",
      "\n",
      "the major participants in the war threw their entire economic, industrial, and scientific capabilities behind the war effort, blurring the distinction between civilian and military resources. aircraft played a major role in the conflict, enabling the strategic bombing of population centres and deploying the only two nuclear weapons ever used in war.\n",
      "\n",
      "world war ii was by far the deadliest conflict in human history; it resulted in 70 to 85 million fatalities, mostly among civilians. tens of millions died due to genocides (including the holocaust), starvation, massacres, and disease. in the wake of the axis defeat, germany and japan were occupied, and war crimes tribunals were conducted against german and japanese leaders.\n",
      "\n",
      "the causes of world war ii are debated, but contributing factors included the second italo-ethiopian war, the spanish civil war, the second sino-japanese war, the sovietâ€“japanese border conflicts, the rise of fascism in europe and rising european tensions since world war i. world war ii is generally considered to have begun on 1 september 1939, when nazi germany, under adolf hitler, invaded poland. the united kingdom and france subsequently declared war on germany on 3 september. under the molotovâ€“ribbentrop pact of august 1939, germany and the soviet union had partitioned poland and marked out their \"spheres of influence\" across finland, estonia, latvia, lithuania and romania. from late 1939 to early 1941, in a series of campaigns and treaties, germany conquered or controlled much of continental europe, and formed the axis alliance with italy and japan (with other countries later). following the onset of campaigns in north africa and east africa, and the fall of france in mid-1940, the war continued primarily between the european axis powers and the british empire, with war in the balkans, the aerial battle of britain, the blitz of the united kingdom, and the battle of the atlantic. on 22 june 1941, germany led the european axis powers in an invasion of the soviet union, opening the eastern front, the largest land theatre of war in history.\n",
      "\n",
      "japan, which aimed to dominate asia and the pacific, was at war with the republic of china by 1937. in december 1941, japan attacked american and british territories with near-simultaneous offensives against southeast asia and the central pacific, including an attack on the us fleet at pearl harbor which resulted in the united states declaring war against japan. the european axis powers declared war on the united states in solidarity. japan soon captured much of the western pacific, but its advances were halted in 1942 after losing the critical battle of midway; later, germany and italy were defeated in north africa and at stalingrad in the soviet union. key setbacks in 1943â€”including a series of german defeats on the eastern front, the allied invasions of sicily and the italian mainland, and allied offensives in the pacificâ€”cost the axis powers their initiative and forced them into strategic retreat on all fronts. in 1944, the western allies invaded german-occupied france, while the soviet union regained its territorial losses and turned towards germany and its allies. during 1944 and 1945, japan suffered reversals in mainland asia, while the allies crippled the japanese navy and captured key western pacific islands.\n",
      "\n",
      "the war in europe concluded with the liberation of german-occupied territories and the invasion of germany by the western allies and the soviet union, culminating in the fall of berlin to soviet troops, hitler's suicide, and the german unconditional surrender on 8 may 1945. following the refusal of japan to surrender on the terms of the potsdam declaration (issued 26 july 1945), the united states dropped the first atomic bombs on the japanese cities of hiroshima on 6 august and nagasaki on 9 august. faced with an imminent invasion of the japanese archipelago, the possibility of additional atomic bombings, and the soviet union's declared entry into the war against japan on the eve of invading manchuria, japan announced on 10 august its intention to surrender, signing a surrender document on 2 september 1945.\n",
      "\n",
      "world war ii changed the political alignment and social structure of the globe. the united nations was established to foster international co-operation and prevent future conflicts,[1] with the victorious great powersâ€”china, france, the soviet union, the united kingdom, and the united statesâ€”becoming the permanent members of its security council. the soviet union and the united states emerged as rival superpowers, setting the stage for the nearly half-century-long cold war. in the wake of european devastation, the influence of its great powers waned, triggering the decolonisation of africa and asia. most countries whose industries had been damaged moved towards economic recovery and expansion. political and economic integration, especially in europe, began as an effort to forestall future hostilities, end pre-war enmities and forge a sense of common identity.\n"
     ]
    }
   ],
   "source": [
    "f=open('deep_learnig.txt','r', errors=\"ignore\")\n",
    "with open('deep_learnig.txt', 'r') as f: \n",
    "    raw = f.read() \n",
    " \n",
    "raw = raw.lower()\n",
    "print(raw)  "
   ]
  },
  {
   "cell_type": "markdown",
   "metadata": {
    "id": "pQMbWKz2KvXP"
   },
   "source": [
    "\n",
    "The main issue with text data is that it is all in text format (strings). However, the Machine learning algorithms need some sort of numerical feature vector in order to perform the task. So before we start with any NLP project we need to pre-process it to make it ideal for working. Basic text pre-processing includes:\n",
    "\n",
    "* Converting the entire text into **uppercase** or **lowercase**, so that the algorithm does not treat the same words in different cases as different\n",
    "\n",
    "* **Tokenization**: Tokenization is just the term used to describe the process of converting the normal text strings into a list of tokens i.e words that we actually want. Sentence tokenizer can be used to find the list of sentences and Word tokenizer can be used to find the list of words in strings.\n",
    "\n",
    "_The NLTK data package includes a pre-trained Punkt tokenizer for English._\n",
    "\n",
    "* Removing **Noise** i.e everything that isn’t in a standard number or letter.\n",
    "* Removing the **Stop words**. Sometimes, some extremely common words which would appear to be of little value in helping select documents matching a user need are excluded from the vocabulary entirely. These words are called stop words\n",
    "* **Stemming**: Stemming is the process of reducing inflected (or sometimes derived) words to their stem, base or root form — generally a written word form. Example if we were to stem the following words: “Stems”, “Stemming”, “Stemmed”, “and Stemtization”, the result would be a single word “stem”.\n",
    "* **Lemmatization**: A slight variant of stemming is lemmatization. The major difference between these is, that, stemming can often create non-existent words, whereas lemmas are actual words. So, your root stem, meaning the word you end up with, is not something you can just look up in a dictionary, but you can look up a lemma. Examples of Lemmatization are that “run” is a base form for words like “running” or “ran” or that the word “better” and “good” are in the same lemma so they are considered the same.\n",
    "\n"
   ]
  },
  {
   "cell_type": "markdown",
   "metadata": {
    "id": "hOWyEgMdKvXQ"
   },
   "source": [
    "## Tokenisation"
   ]
  },
  {
   "cell_type": "code",
   "execution_count": 7,
   "metadata": {
    "id": "ZpjjYkZNKvXS"
   },
   "outputs": [
    {
     "name": "stdout",
     "output_type": "stream",
     "text": [
      "['world', 'war', 'ii', 'or', 'the', 'second', 'world', 'war', ',', 'often', 'abbreviated', 'as', 'wwii', 'or', 'ww2', ',', 'was', 'a', 'world', 'war', 'that', 'lasted', 'from', '1939', 'to', '1945.', 'it', 'involved', 'the', 'vast', 'majority', 'of', 'the', 'world', \"'s\", 'countriesâ€', '”', 'including', 'all', 'of', 'the', 'great', 'powersâ€', '”', 'forming', 'two', 'opposing', 'military', 'alliances', ':', 'the', 'allies', 'and', 'the', 'axis', 'powers', '.', 'world', 'war', 'ii', 'was', 'a', 'total', 'war', 'that', 'directly', 'involved', 'more', 'than', '100', 'million', 'personnel', 'from', 'more', 'than', '30', 'countries', '.', 'the', 'major', 'participants', 'in', 'the', 'war', 'threw', 'their', 'entire', 'economic', ',', 'industrial', ',', 'and', 'scientific', 'capabilities', 'behind', 'the', 'war', 'effort', ',', 'blurring', 'the', 'distinction', 'between', 'civilian', 'and', 'military', 'resources', '.', 'aircraft', 'played', 'a', 'major', 'role', 'in', 'the', 'conflict', ',', 'enabling', 'the', 'strategic', 'bombing', 'of', 'population', 'centres', 'and', 'deploying', 'the', 'only', 'two', 'nuclear', 'weapons', 'ever', 'used', 'in', 'war', '.', 'world', 'war', 'ii', 'was', 'by', 'far', 'the', 'deadliest', 'conflict', 'in', 'human', 'history', ';', 'it', 'resulted', 'in', '70', 'to', '85', 'million', 'fatalities', ',', 'mostly', 'among', 'civilians', '.', 'tens', 'of', 'millions', 'died', 'due', 'to', 'genocides', '(', 'including', 'the', 'holocaust', ')', ',', 'starvation', ',', 'massacres', ',', 'and', 'disease', '.', 'in', 'the', 'wake', 'of', 'the', 'axis', 'defeat', ',', 'germany', 'and', 'japan', 'were', 'occupied', ',', 'and', 'war', 'crimes', 'tribunals', 'were', 'conducted', 'against', 'german', 'and', 'japanese', 'leaders', '.', 'the', 'causes', 'of', 'world', 'war', 'ii', 'are', 'debated', ',', 'but', 'contributing', 'factors', 'included', 'the', 'second', 'italo-ethiopian', 'war', ',', 'the', 'spanish', 'civil', 'war', ',', 'the', 'second', 'sino-japanese', 'war', ',', 'the', 'sovietâ€', '“', 'japanese', 'border', 'conflicts', ',', 'the', 'rise', 'of', 'fascism', 'in', 'europe', 'and', 'rising', 'european', 'tensions', 'since', 'world', 'war', 'i.', 'world', 'war', 'ii', 'is', 'generally', 'considered', 'to', 'have', 'begun', 'on', '1', 'september', '1939', ',', 'when', 'nazi', 'germany', ',', 'under', 'adolf', 'hitler', ',', 'invaded', 'poland', '.', 'the', 'united', 'kingdom', 'and', 'france', 'subsequently', 'declared', 'war', 'on', 'germany', 'on', '3', 'september', '.', 'under', 'the', 'molotovâ€', '“', 'ribbentrop', 'pact', 'of', 'august', '1939', ',', 'germany', 'and', 'the', 'soviet', 'union', 'had', 'partitioned', 'poland', 'and', 'marked', 'out', 'their', '``', 'spheres', 'of', 'influence', \"''\", 'across', 'finland', ',', 'estonia', ',', 'latvia', ',', 'lithuania', 'and', 'romania', '.', 'from', 'late', '1939', 'to', 'early', '1941', ',', 'in', 'a', 'series', 'of', 'campaigns', 'and', 'treaties', ',', 'germany', 'conquered', 'or', 'controlled', 'much', 'of', 'continental', 'europe', ',', 'and', 'formed', 'the', 'axis', 'alliance', 'with', 'italy', 'and', 'japan', '(', 'with', 'other', 'countries', 'later', ')', '.', 'following', 'the', 'onset', 'of', 'campaigns', 'in', 'north', 'africa', 'and', 'east', 'africa', ',', 'and', 'the', 'fall', 'of', 'france', 'in', 'mid-1940', ',', 'the', 'war', 'continued', 'primarily', 'between', 'the', 'european', 'axis', 'powers', 'and', 'the', 'british', 'empire', ',', 'with', 'war', 'in', 'the', 'balkans', ',', 'the', 'aerial', 'battle', 'of', 'britain', ',', 'the', 'blitz', 'of', 'the', 'united', 'kingdom', ',', 'and', 'the', 'battle', 'of', 'the', 'atlantic', '.', 'on', '22', 'june', '1941', ',', 'germany', 'led', 'the', 'european', 'axis', 'powers', 'in', 'an', 'invasion', 'of', 'the', 'soviet', 'union', ',', 'opening', 'the', 'eastern', 'front', ',', 'the', 'largest', 'land', 'theatre', 'of', 'war', 'in', 'history', '.', 'japan', ',', 'which', 'aimed', 'to', 'dominate', 'asia', 'and', 'the', 'pacific', ',', 'was', 'at', 'war', 'with', 'the', 'republic', 'of', 'china', 'by', '1937.', 'in', 'december', '1941', ',', 'japan', 'attacked', 'american', 'and', 'british', 'territories', 'with', 'near-simultaneous', 'offensives', 'against', 'southeast', 'asia', 'and', 'the', 'central', 'pacific', ',', 'including', 'an', 'attack', 'on', 'the', 'us', 'fleet', 'at', 'pearl', 'harbor', 'which', 'resulted', 'in', 'the', 'united', 'states', 'declaring', 'war', 'against', 'japan', '.', 'the', 'european', 'axis', 'powers', 'declared', 'war', 'on', 'the', 'united', 'states', 'in', 'solidarity', '.', 'japan', 'soon', 'captured', 'much', 'of', 'the', 'western', 'pacific', ',', 'but', 'its', 'advances', 'were', 'halted', 'in', '1942', 'after', 'losing', 'the', 'critical', 'battle', 'of', 'midway', ';', 'later', ',', 'germany', 'and', 'italy', 'were', 'defeated', 'in', 'north', 'africa', 'and', 'at', 'stalingrad', 'in', 'the', 'soviet', 'union', '.', 'key', 'setbacks', 'in', '1943â€', '”', 'including', 'a', 'series', 'of', 'german', 'defeats', 'on', 'the', 'eastern', 'front', ',', 'the', 'allied', 'invasions', 'of', 'sicily', 'and', 'the', 'italian', 'mainland', ',', 'and', 'allied', 'offensives', 'in', 'the', 'pacificâ€', '”', 'cost', 'the', 'axis', 'powers', 'their', 'initiative', 'and', 'forced', 'them', 'into', 'strategic', 'retreat', 'on', 'all', 'fronts', '.', 'in', '1944', ',', 'the', 'western', 'allies', 'invaded', 'german-occupied', 'france', ',', 'while', 'the', 'soviet', 'union', 'regained', 'its', 'territorial', 'losses', 'and', 'turned', 'towards', 'germany', 'and', 'its', 'allies', '.', 'during', '1944', 'and', '1945', ',', 'japan', 'suffered', 'reversals', 'in', 'mainland', 'asia', ',', 'while', 'the', 'allies', 'crippled', 'the', 'japanese', 'navy', 'and', 'captured', 'key', 'western', 'pacific', 'islands', '.', 'the', 'war', 'in', 'europe', 'concluded', 'with', 'the', 'liberation', 'of', 'german-occupied', 'territories', 'and', 'the', 'invasion', 'of', 'germany', 'by', 'the', 'western', 'allies', 'and', 'the', 'soviet', 'union', ',', 'culminating', 'in', 'the', 'fall', 'of', 'berlin', 'to', 'soviet', 'troops', ',', 'hitler', \"'s\", 'suicide', ',', 'and', 'the', 'german', 'unconditional', 'surrender', 'on', '8', 'may', '1945.', 'following', 'the', 'refusal', 'of', 'japan', 'to', 'surrender', 'on', 'the', 'terms', 'of', 'the', 'potsdam', 'declaration', '(', 'issued', '26', 'july', '1945', ')', ',', 'the', 'united', 'states', 'dropped', 'the', 'first', 'atomic', 'bombs', 'on', 'the', 'japanese', 'cities', 'of', 'hiroshima', 'on', '6', 'august', 'and', 'nagasaki', 'on', '9', 'august', '.', 'faced', 'with', 'an', 'imminent', 'invasion', 'of', 'the', 'japanese', 'archipelago', ',', 'the', 'possibility', 'of', 'additional', 'atomic', 'bombings', ',', 'and', 'the', 'soviet', 'union', \"'s\", 'declared', 'entry', 'into', 'the', 'war', 'against', 'japan', 'on', 'the', 'eve', 'of', 'invading', 'manchuria', ',', 'japan', 'announced', 'on', '10', 'august', 'its', 'intention', 'to', 'surrender', ',', 'signing', 'a', 'surrender', 'document', 'on', '2', 'september', '1945.', 'world', 'war', 'ii', 'changed', 'the', 'political', 'alignment', 'and', 'social', 'structure', 'of', 'the', 'globe', '.', 'the', 'united', 'nations', 'was', 'established', 'to', 'foster', 'international', 'co-operation', 'and', 'prevent', 'future', 'conflicts', ',', '[', '1', ']', 'with', 'the', 'victorious', 'great', 'powersâ€', '”', 'china', ',', 'france', ',', 'the', 'soviet', 'union', ',', 'the', 'united', 'kingdom', ',', 'and', 'the', 'united', 'statesâ€', '”', 'becoming', 'the', 'permanent', 'members', 'of', 'its', 'security', 'council', '.', 'the', 'soviet', 'union', 'and', 'the', 'united', 'states', 'emerged', 'as', 'rival', 'superpowers', ',', 'setting', 'the', 'stage', 'for', 'the', 'nearly', 'half-century-long', 'cold', 'war', '.', 'in', 'the', 'wake', 'of', 'european', 'devastation', ',', 'the', 'influence', 'of', 'its', 'great', 'powers', 'waned', ',', 'triggering', 'the', 'decolonisation', 'of', 'africa', 'and', 'asia', '.', 'most', 'countries', 'whose', 'industries', 'had', 'been', 'damaged', 'moved', 'towards', 'economic', 'recovery', 'and', 'expansion', '.', 'political', 'and', 'economic', 'integration', ',', 'especially', 'in', 'europe', ',', 'began', 'as', 'an', 'effort', 'to', 'forestall', 'future', 'hostilities', ',', 'end', 'pre-war', 'enmities', 'and', 'forge', 'a', 'sense', 'of', 'common', 'identity', '.']\n"
     ]
    }
   ],
   "source": [
    "sent_tokens = nltk.sent_tokenize(raw)# converts to list of sentences \n",
    "word_tokens = nltk.word_tokenize(raw)# converts to list of words\n",
    "print(word_tokens)"
   ]
  },
  {
   "cell_type": "markdown",
   "metadata": {
    "id": "iYWPNkqjKvXa"
   },
   "source": [
    "## Preprocessing\n",
    "\n",
    "We shall now define a function called LemTokens which will take as input the tokens and return normalized tokens."
   ]
  },
  {
   "cell_type": "code",
   "execution_count": 8,
   "metadata": {
    "id": "9OnKw1QQKvXb"
   },
   "outputs": [],
   "source": [
    "lemmer = nltk.stem.WordNetLemmatizer()\n",
    "#WordNet is a semantically-oriented dictionary of English included in NLTK.\n",
    "def LemTokens(tokens):\n",
    "    return [lemmer.lemmatize(token) for token in tokens]\n",
    "remove_punct_dict = dict((ord(punct), None) for punct in string.punctuation)\n",
    "\n",
    "def LemNormalize(text):\n",
    "    return LemTokens(nltk.word_tokenize(text.lower().translate(remove_punct_dict)))"
   ]
  },
  {
   "cell_type": "markdown",
   "metadata": {
    "id": "1cMGjW5eKvXh"
   },
   "source": [
    "## Keyword matching\n",
    "\n",
    "Next, we shall define a function for a greeting by the bot i.e if a user’s input is a greeting, the bot shall return a greeting response.ELIZA uses a simple keyword matching for greetings. We will utilize the same concept here."
   ]
  },
  {
   "cell_type": "code",
   "execution_count": 14,
   "metadata": {
    "id": "h4MchcWHKvXi"
   },
   "outputs": [],
   "source": [
    "GREETING_INPUTS = (\"hello\", \"hi\", \"greetings\", \"sup\", \"what's up\",\"hey\",)\n",
    "GREETING_RESPONSES = [\"hi\", \"hey\", \"*nods*\", \"hi there\", \"hello\", \"I am glad! You are talking to me\"]\n",
    "def greeting(sentence):\n",
    " \n",
    "    for word in sentence.split():  #split sentence\n",
    "        if word.lower() in GREETING_INPUTS:   #get greeting inputs\n",
    "            return random.choice(GREETING_RESPONSES)  #get greeting responses"
   ]
  },
  {
   "cell_type": "markdown",
   "metadata": {
    "id": "E5s2xQt9KvXq"
   },
   "source": [
    "## Generating Response\n",
    "\n",
    "### Bag of Words\n",
    "After the initial preprocessing phase, we need to transform text into a meaningful vector (or array) of numbers. The bag-of-words is a representation of text that describes the occurrence of words within a document. It involves two things:\n",
    "\n",
    "* A vocabulary of known words.\n",
    "\n",
    "* A measure of the presence of known words.\n",
    "\n",
    "Why is it is called a “bag” of words? That is because any information about the order or structure of words in the document is discarded and the model is only **concerned with whether the known words occur in the document, not where they occur in the document.**\n",
    "\n",
    "The intuition behind the Bag of Words is that documents are similar if they have similar content. Also, we can learn something about the meaning of the document from its content alone.\n",
    "\n",
    "For example, if our dictionary contains the words {Learning, is, the, not, great}, and we want to vectorize the text “Learning is great”, we would have the following vector: (1, 1, 0, 0, 1).\n",
    "\n",
    "\n",
    "### TF-IDF Approach\n",
    "A problem with the Bag of Words approach is that highly frequent words start to dominate in the document (e.g. larger score), but may not contain as much “informational content”. Also, it will give more weight to longer documents than shorter documents.\n",
    "\n",
    "One approach is to rescale the frequency of words by how often they appear in all documents so that the scores for frequent words like “the” that are also frequent across all documents are penalized. This approach to scoring is called Term Frequency-Inverse Document Frequency, or TF-IDF for short, where:\n",
    "\n",
    "**Term Frequency: is a scoring of the frequency of the word in the current document.**\n",
    "\n",
    "```\n",
    "TF = (Number of times term t appears in a document)/(Number of terms in the document)\n",
    "```\n",
    "\n",
    "**Inverse Document Frequency: is a scoring of how rare the word is across documents.**\n",
    "\n",
    "```\n",
    "IDF = 1+log(N/n), where, N is the number of documents and n is the number of documents a term t has appeared in.\n",
    "```\n",
    "### Cosine Similarity\n",
    "\n",
    "Tf-idf weight is a weight often used in information retrieval and text mining. This weight is a statistical measure used to evaluate how important a word is to a document in a collection or corpus\n",
    "\n",
    "```\n",
    "Cosine Similarity (d1, d2) =  Dot product(d1, d2) / ||d1|| * ||d2||\n",
    "```\n",
    "where d1,d2 are two non zero vectors.\n",
    "\n"
   ]
  },
  {
   "cell_type": "markdown",
   "metadata": {
    "id": "wVj3j4L2KvXr"
   },
   "source": [
    "To generate a response from our bot for input questions, the concept of document similarity will be used. We define a function response which searches the user’s utterance for one or more known keywords and returns one of several possible responses. If it doesn’t find the input matching any of the keywords, it returns a response:” I am sorry! I don’t understand you”"
   ]
  },
  {
   "cell_type": "code",
   "execution_count": 15,
   "metadata": {
    "id": "9EFlU19DKvXt"
   },
   "outputs": [],
   "source": [
    "def response(user_response):\n",
    "    robo_response=''\n",
    "    sent_tokens.append(user_response)\n",
    "    TfidfVec = TfidfVectorizer(tokenizer=LemNormalize, stop_words='english')\n",
    "    tfidf = TfidfVec.fit_transform(sent_tokens)\n",
    "    vals = cosine_similarity(tfidf[-1], tfidf)\n",
    "    idx=vals.argsort()[0][-2]\n",
    "    flat = vals.flatten()\n",
    "    flat.sort()   #sort flat\n",
    "    req_tfidf = flat[-2]\n",
    "    if(req_tfidf==0):\n",
    "        robo_response=robo_response+\"I am sorry! I don't understand you\"\n",
    "        return robo_response\n",
    "    else:\n",
    "        robo_response = robo_response+sent_tokens[idx]\n",
    "        return robo_response\n",
    "\n"
   ]
  },
  {
   "cell_type": "markdown",
   "metadata": {
    "id": "hdYVNkltKvXz"
   },
   "source": [
    "Finally, we will feed the lines that we want our bot to say while starting and ending a conversation depending upon user’s input."
   ]
  },
  {
   "cell_type": "code",
   "execution_count": null,
   "metadata": {
    "colab": {
     "base_uri": "https://localhost:8080/",
     "height": 288
    },
    "id": "ZVcXxv1xKvX1",
    "outputId": "c62fc29c-c319-41a6-d99d-0ffe49fc70e0"
   },
   "outputs": [
    {
     "name": "stdout",
     "output_type": "stream",
     "text": [
      "ROBO: My name is Robo. I will answer your queries about Chatbots. If you want to exit, type Bye!\n",
      "hello\n",
      "ROBO: hi there\n",
      "what world war 2\n",
      "ROBO: \n",
      "world war ii or the second world war, often abbreviated as wwii or ww2, was a world war that lasted from 1939 to 1945. it involved the vast majority of the world's countriesâ€”including all of the great powersâ€”forming two opposing military alliances: the allies and the axis powers.\n",
      "began\n",
      "ROBO: \n",
      "political and economic integration, especially in europe, began as an effort to forestall future hostilities, end pre-war enmities and forge a sense of common identity.\n",
      "1945\n",
      "ROBO: \n",
      "the war in europe concluded with the liberation of german-occupied territories and the invasion of germany by the western allies and the soviet union, culminating in the fall of berlin to soviet troops, hitler's suicide, and the german unconditional surrender on 8 may 1945. following the refusal of japan to surrender on the terms of the potsdam declaration (issued 26 july 1945), the united states dropped the first atomic bombs on the japanese cities of hiroshima on 6 august and nagasaki on 9 august.\n",
      "when began\n",
      "ROBO: \n",
      "political and economic integration, especially in europe, began as an effort to forestall future hostilities, end pre-war enmities and forge a sense of common identity.\n"
     ]
    }
   ],
   "source": [
    "flag=True\n",
    "print(\"ROBO: My name is Robo. I will answer your queries about Chatbots. If you want to exit, type Bye!\")\n",
    "while(flag==True):\n",
    "    user_response = input()\n",
    "    user_response=user_response.lower()\n",
    "    if(user_response!='bye'):\n",
    "        if(user_response=='thanks' or user_response=='thank you' ):\n",
    "            flag=False   \n",
    "            print(\"ROBO: You are welcome..\")\n",
    "        else:\n",
    "            if(greeting(user_response)!=None):\n",
    "                print(\"ROBO: \"+greeting(user_response))\n",
    "            else:\n",
    "                print(\"ROBO: \")\n",
    "                print(response(user_response))\n",
    "                sent_tokens.remove(user_response)\n",
    "    else:\n",
    "        flag=False\n",
    "        print(\"ROBO: Bye! take care..\") "
   ]
  },
  {
   "cell_type": "code",
   "execution_count": null,
   "metadata": {},
   "outputs": [],
   "source": []
  }
 ],
 "metadata": {
  "accelerator": "GPU",
  "colab": {
   "collapsed_sections": [],
   "name": "checkpoint: Build_your_own_chatbot.ipynb",
   "provenance": [],
   "toc_visible": true
  },
  "kernelspec": {
   "display_name": "Python 3 (ipykernel)",
   "language": "python",
   "name": "python3"
  },
  "language_info": {
   "codemirror_mode": {
    "name": "ipython",
    "version": 3
   },
   "file_extension": ".py",
   "mimetype": "text/x-python",
   "name": "python",
   "nbconvert_exporter": "python",
   "pygments_lexer": "ipython3",
   "version": "3.9.12"
  }
 },
 "nbformat": 4,
 "nbformat_minor": 1
}
