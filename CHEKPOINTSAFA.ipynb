{
 "cells": [
  {
   "cell_type": "code",
   "execution_count": 3,
   "id": "c6b2f6d7",
   "metadata": {},
   "outputs": [],
   "source": [
    "#package initialisation\n",
    "import numpy as np\n",
    "\n"
   ]
  },
  {
   "cell_type": "code",
   "execution_count": 5,
   "id": "fbf355f7",
   "metadata": {},
   "outputs": [
    {
     "name": "stdout",
     "output_type": "stream",
     "text": [
      "result= 615\n"
     ]
    }
   ],
   "source": [
    "#question 1\n",
    "n=5\n",
    "nn=55\n",
    "nnn=555\n",
    "result=n+nn+nnn\n",
    "print('result=',result)"
   ]
  },
  {
   "cell_type": "code",
   "execution_count": 8,
   "id": "5f584b32",
   "metadata": {},
   "outputs": [
    {
     "ename": "SyntaxError",
     "evalue": "invalid syntax (<ipython-input-8-aaa82a5bcb16>, line 3)",
     "output_type": "error",
     "traceback": [
      "\u001b[1;36m  File \u001b[1;32m\"<ipython-input-8-aaa82a5bcb16>\"\u001b[1;36m, line \u001b[1;32m3\u001b[0m\n\u001b[1;33m    if x in [0,2,4,6,8]\u001b[0m\n\u001b[1;37m                       ^\u001b[0m\n\u001b[1;31mSyntaxError\u001b[0m\u001b[1;31m:\u001b[0m invalid syntax\n"
     ]
    }
   ],
   "source": [
    "#question 2\n",
    "x=int(input('donner un nbre'))\n",
    "if x in [0,2,4,6,8]\n",
    "   print('x is an even')\n",
    "else:\n",
    "    print('x is an odd')"
   ]
  },
  {
   "cell_type": "code",
   "execution_count": null,
   "id": "932ecc9a",
   "metadata": {},
   "outputs": [],
   "source": []
  },
  {
   "cell_type": "code",
   "execution_count": null,
   "id": "76e17d28",
   "metadata": {},
   "outputs": [],
   "source": []
  }
 ],
 "metadata": {
  "kernelspec": {
   "display_name": "Python 3",
   "language": "python",
   "name": "python3"
  },
  "language_info": {
   "codemirror_mode": {
    "name": "ipython",
    "version": 3
   },
   "file_extension": ".py",
   "mimetype": "text/x-python",
   "name": "python",
   "nbconvert_exporter": "python",
   "pygments_lexer": "ipython3",
   "version": "3.8.8"
  }
 },
 "nbformat": 4,
 "nbformat_minor": 5
}
