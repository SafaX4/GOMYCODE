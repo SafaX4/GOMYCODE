{
 "cells": [
  {
   "cell_type": "code",
   "execution_count": 3,
   "id": "81f42314",
   "metadata": {},
   "outputs": [
    {
     "name": "stdout",
     "output_type": "stream",
     "text": [
      "[[1 2 3]\n",
      " [4 5 6]\n",
      " [7 8 9]]\n",
      "[array([1, 2, 3]), array([4, 5, 6]), array([7, 8, 9])]\n"
     ]
    }
   ],
   "source": [
    "#question 1\n",
    "import numpy as np\n",
    "a=np.array([[1,2,3], [4,5,6] , [7,8,9]])\n",
    "print(a)\n",
    "my_list=[]\n",
    "for i in range(len(a)):\n",
    "    my_list.append(a[i])\n",
    "print(my_list)    \n",
    "    \n"
   ]
  },
  {
   "cell_type": "code",
   "execution_count": 5,
   "id": "67224c93",
   "metadata": {},
   "outputs": [
    {
     "name": "stdout",
     "output_type": "stream",
     "text": [
      "Condition number of the said matrix:\n",
      "10\n",
      "1\n",
      "6\n",
      "3\n"
     ]
    }
   ],
   "source": [
    "#question 2\n",
    "import numpy as np\n",
    "a=np.array([[1,2,3] , [5,6,7] , [8,9,3]])\n",
    "result =  np.trace(a)\n",
    "print(\"Condition number of the said matrix:\")\n",
    "print(result)\n",
    "\n",
    "#autre methode\n",
    "\n",
    "\n",
    "import numpy as np\n",
    "a=np.array([[1,2,3] , [5,6,7] , [8,9,3]])\n",
    "for i in range(len(a)):\n",
    "    print(a[i][i])\n",
    "    \n",
    "    \n"
   ]
  },
  {
   "cell_type": "code",
   "execution_count": 11,
   "id": "7591ed5d",
   "metadata": {},
   "outputs": [
    {
     "name": "stdout",
     "output_type": "stream",
     "text": [
      "[3 5]\n"
     ]
    }
   ],
   "source": [
    "#question3\n",
    "import numpy as np\n",
    "a=np.array([[1,2] , [3,5]])\n",
    "x=2\n",
    "b=a[a>x]\n",
    "print(b)\n",
    "    \n",
    "    \n",
    "\n",
    "    \n",
    "\n"
   ]
  },
  {
   "cell_type": "code",
   "execution_count": 12,
   "id": "3031d1aa",
   "metadata": {},
   "outputs": [
    {
     "name": "stdout",
     "output_type": "stream",
     "text": [
      "[[ 6  8]\n",
      " [10 12]]\n"
     ]
    }
   ],
   "source": [
    "# question 4\n",
    "\n",
    "import numpy as np\n",
    "A=np.array([[1,2] , [3,4]])\n",
    "B=np.array([[5,6] , [7,8]])\n",
    "C=A+B\n",
    "print(C)\n"
   ]
  },
  {
   "cell_type": "code",
   "execution_count": null,
   "id": "f45d03ba",
   "metadata": {},
   "outputs": [],
   "source": []
  },
  {
   "cell_type": "code",
   "execution_count": null,
   "id": "ca0b3875",
   "metadata": {},
   "outputs": [],
   "source": []
  }
 ],
 "metadata": {
  "kernelspec": {
   "display_name": "Python 3",
   "language": "python",
   "name": "python3"
  },
  "language_info": {
   "codemirror_mode": {
    "name": "ipython",
    "version": 3
   },
   "file_extension": ".py",
   "mimetype": "text/x-python",
   "name": "python",
   "nbconvert_exporter": "python",
   "pygments_lexer": "ipython3",
   "version": "3.8.8"
  }
 },
 "nbformat": 4,
 "nbformat_minor": 5
}
