{
 "cells": [
  {
   "cell_type": "code",
   "execution_count": 1,
   "id": "3a7e8880",
   "metadata": {},
   "outputs": [
    {
     "name": "stdout",
     "output_type": "stream",
     "text": [
      "saisir un nombre entier=5\n",
      "615\n"
     ]
    }
   ],
   "source": [
    "#question1\n",
    "n=input(\"saisir un nombre entier=\")\n",
    "nn=n+n\n",
    "nnn=n+n+n\n",
    "res=int(n)+int(nn)+int(nnn)\n",
    "print(res)"
   ]
  },
  {
   "cell_type": "code",
   "execution_count": 2,
   "id": "f4ddec02",
   "metadata": {},
   "outputs": [
    {
     "name": "stdout",
     "output_type": "stream",
     "text": [
      "saisir un nombre entier=5\n",
      "5 est impair\n"
     ]
    }
   ],
   "source": [
    "#question2\n",
    "n=int(input(\"saisir un nombre entier=\"))\n",
    "if n % 2 == 0:\n",
    "    print(n,\"est pair\")\n",
    "else:\n",
    "    print(n,\"est impair\")"
   ]
  },
  {
   "cell_type": "code",
   "execution_count": 5,
   "id": "d90f019c",
   "metadata": {},
   "outputs": [
    {
     "ename": "TypeError",
     "evalue": "unsupported operand type(s) for +: 'int' and 'str'",
     "output_type": "error",
     "traceback": [
      "\u001b[1;31m---------------------------------------------------------------------------\u001b[0m",
      "\u001b[1;31mTypeError\u001b[0m                                 Traceback (most recent call last)",
      "\u001b[1;32m<ipython-input-5-811eedf7fe04>\u001b[0m in \u001b[0;36m<module>\u001b[1;34m\u001b[0m\n\u001b[0;32m      2\u001b[0m \u001b[1;32mfor\u001b[0m \u001b[0mi\u001b[0m \u001b[1;32min\u001b[0m \u001b[0mrange\u001b[0m\u001b[1;33m(\u001b[0m\u001b[1;36m2000\u001b[0m\u001b[1;33m,\u001b[0m\u001b[1;36m3201\u001b[0m\u001b[1;33m)\u001b[0m\u001b[1;33m:\u001b[0m\u001b[1;33m\u001b[0m\u001b[1;33m\u001b[0m\u001b[0m\n\u001b[0;32m      3\u001b[0m     \u001b[1;32mif\u001b[0m \u001b[0mi\u001b[0m\u001b[1;33m%\u001b[0m\u001b[1;36m7\u001b[0m\u001b[1;33m==\u001b[0m\u001b[1;36m0\u001b[0m \u001b[1;32mand\u001b[0m \u001b[0mi\u001b[0m\u001b[1;33m%\u001b[0m\u001b[1;36m5\u001b[0m\u001b[1;33m!=\u001b[0m\u001b[1;36m0\u001b[0m \u001b[1;33m:\u001b[0m\u001b[1;33m\u001b[0m\u001b[1;33m\u001b[0m\u001b[0m\n\u001b[1;32m----> 4\u001b[1;33m         \u001b[0mres\u001b[0m \u001b[1;33m=\u001b[0m \u001b[0mres\u001b[0m\u001b[1;33m+\u001b[0m\u001b[1;34m\" \"\u001b[0m\u001b[1;33m+\u001b[0m\u001b[0mstr\u001b[0m\u001b[1;33m(\u001b[0m\u001b[0mi\u001b[0m\u001b[1;33m)\u001b[0m\u001b[1;33m\u001b[0m\u001b[1;33m\u001b[0m\u001b[0m\n\u001b[0m\u001b[0;32m      5\u001b[0m \u001b[0mprint\u001b[0m\u001b[1;33m(\u001b[0m\u001b[0mres\u001b[0m\u001b[1;33m)\u001b[0m\u001b[1;33m\u001b[0m\u001b[1;33m\u001b[0m\u001b[0m\n",
      "\u001b[1;31mTypeError\u001b[0m: unsupported operand type(s) for +: 'int' and 'str'"
     ]
    }
   ],
   "source": [
    "#question3\n",
    "for i in range(2000,3201):\n",
    "    if i%7==0 and i%5!=0 :\n",
    "        res = res+\" \"+str(i)\n",
    "print(res)        "
   ]
  },
  {
   "cell_type": "code",
   "execution_count": 7,
   "id": "09972e2c",
   "metadata": {},
   "outputs": [
    {
     "name": "stdout",
     "output_type": "stream",
     "text": [
      "saisir un nombre entier=3\n",
      "6\n"
     ]
    }
   ],
   "source": [
    "#question4\n",
    "x=int(input(\"saisir un nombre entier=\"))\n",
    "i=1\n",
    "b=1\n",
    "while i <= x :\n",
    "    b=b*i\n",
    "    i=i+1\n",
    "print(b)    "
   ]
  },
  {
   "cell_type": "code",
   "execution_count": 9,
   "id": "0b925e71",
   "metadata": {},
   "outputs": [
    {
     "name": "stdout",
     "output_type": "stream",
     "text": [
      "saisir une chaine =\"hello team\"\n",
      "m\n"
     ]
    }
   ],
   "source": [
    "#question5\n",
    "ch =input(\"saisir une chaine =\")\n",
    "new_ch =\"\"\n",
    "for i in range(len(ch)):\n",
    "    if i%2==0:\n",
    "        new_ch=ch[i]\n",
    "print(new_ch)        "
   ]
  },
  {
   "cell_type": "code",
   "execution_count": null,
   "id": "e71e52dd",
   "metadata": {},
   "outputs": [],
   "source": []
  }
 ],
 "metadata": {
  "kernelspec": {
   "display_name": "Python 3",
   "language": "python",
   "name": "python3"
  },
  "language_info": {
   "codemirror_mode": {
    "name": "ipython",
    "version": 3
   },
   "file_extension": ".py",
   "mimetype": "text/x-python",
   "name": "python",
   "nbconvert_exporter": "python",
   "pygments_lexer": "ipython3",
   "version": "3.8.8"
  }
 },
 "nbformat": 4,
 "nbformat_minor": 5
}
